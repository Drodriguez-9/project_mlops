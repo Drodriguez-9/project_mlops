{
 "cells": [
  {
   "cell_type": "code",
   "execution_count": 1,
   "metadata": {},
   "outputs": [
    {
     "data": {
      "text/html": [
       "\n",
       "<style>\n",
       "    /* Turns off some styling */\n",
       "    progress {\n",
       "        /* gets rid of default border in Firefox and Opera. */\n",
       "        border: none;\n",
       "        /* Needs to be in here for Safari polyfill so background images work as expected. */\n",
       "        background-size: auto;\n",
       "    }\n",
       "    progress:not([value]), progress:not([value])::-webkit-progress-bar {\n",
       "        background: repeating-linear-gradient(45deg, #7e7e7e, #7e7e7e 10px, #5c5c5c 10px, #5c5c5c 20px);\n",
       "    }\n",
       "    .progress-bar-interrupted, .progress-bar-interrupted::-webkit-progress-bar {\n",
       "        background: #F44336;\n",
       "    }\n",
       "</style>\n"
      ],
      "text/plain": [
       "<IPython.core.display.HTML object>"
      ]
     },
     "metadata": {},
     "output_type": "display_data"
    },
    {
     "data": {
      "text/html": [
       "\n",
       "    <div>\n",
       "      <progress value='974848' class='' max='968212' style='width:300px; height:20px; vertical-align: middle;'></progress>\n",
       "      100.69% [974848/968212 00:00&lt;00:00]\n",
       "    </div>\n",
       "    "
      ],
      "text/plain": [
       "<IPython.core.display.HTML object>"
      ]
     },
     "metadata": {},
     "output_type": "display_data"
    },
    {
     "name": "stdout",
     "output_type": "stream",
     "text": [
      "   age          workclass  fnlwgt     education  education-num  \\\n",
      "0   49            Private  101320    Assoc-acdm           12.0   \n",
      "1   44            Private  236746       Masters           14.0   \n",
      "2   38            Private   96185       HS-grad            NaN   \n",
      "3   38       Self-emp-inc  112847   Prof-school           15.0   \n",
      "4   42   Self-emp-not-inc   82297       7th-8th            NaN   \n",
      "\n",
      "        marital-status        occupation    relationship                 race  \\\n",
      "0   Married-civ-spouse               NaN            Wife                White   \n",
      "1             Divorced   Exec-managerial   Not-in-family                White   \n",
      "2             Divorced               NaN       Unmarried                Black   \n",
      "3   Married-civ-spouse    Prof-specialty         Husband   Asian-Pac-Islander   \n",
      "4   Married-civ-spouse     Other-service            Wife                Black   \n",
      "\n",
      "       sex  capital-gain  capital-loss  hours-per-week  native-country salary  \n",
      "0   Female             0          1902              40   United-States  >=50k  \n",
      "1     Male         10520             0              45   United-States  >=50k  \n",
      "2   Female             0             0              32   United-States   <50k  \n",
      "3     Male             0             0              40   United-States  >=50k  \n",
      "4   Female             0             0              50   United-States   <50k  \n"
     ]
    }
   ],
   "source": [
    "# Importing the necessary libraries from fastai\n",
    "from fastai.tabular.all import *\n",
    "\n",
    "path = untar_data(URLs.ADULT_SAMPLE)\n",
    "path.ls()\n",
    "df = pd.read_csv(path/'adult.csv')\n",
    "print(df.head())\n",
    "# A simple script for a classification task using the approach outlined in the fast.ai tabular tutorial\n",
    "def train_tabular_classifier(dataframe, target_column, categorical_columns, continuous_columns, metric):\n",
    "    # Load the data\n",
    "    data = dataframe\n",
    "\n",
    "    # Define the splits (here we're using a random split for simplicity)\n",
    "    splits = RandomSplitter(valid_pct=0.2)(range_of(data))\n",
    "\n",
    "    # Preprocess the data\n",
    "    procs = [Categorify, FillMissing, Normalize]\n",
    "    \n",
    "    # Define the TabularPandas object\n",
    "    to = TabularPandas(data, procs=procs, cat_names=categorical_columns, cont_names=continuous_columns,\n",
    "                       y_names=target_column, splits=splits)\n",
    "    \n",
    "    # Create a DataLoaders object\n",
    "    dls = to.dataloaders(bs=64)\n",
    "    \n",
    "    # Define the learner\n",
    "    learn = tabular_learner(dls, metrics=metric)\n",
    "\n",
    "    # Train the model\n",
    "    learn.fit_one_cycle(5)\n",
    "\n",
    "    # Return the trained learner\n",
    "    return learn\n",
    "target_column = 'salary'\n",
    "categorical_columns = ['workclass', 'education', 'marital-status', 'occupation', \n",
    "                       'relationship', 'race', 'sex', 'native-country']\n",
    "continuous_columns = ['age', 'fnlwgt', 'education-num', 'capital-gain', \n",
    "                      'capital-loss', 'hours-per-week']\n",
    "# Example Usage:\n",
    "trained_model = train_tabular_classifier(df, target_column, categorical_columns, continuous_columns, accuracy)\n"
   ]
  },
  {
   "cell_type": "code",
   "execution_count": 22,
   "metadata": {},
   "outputs": [],
   "source": [
    "## Perceptron Method\n",
    "from sklearn.linear_model import Perceptron\n",
    "from sklearn.model_selection import train_test_split #training and te\n",
    "import pandas as pd\n",
    "from sklearn.preprocessing import LabelEncoder\n",
    "ppn = Perceptron(eta0=1, random_state=1)\n",
    "column_names = [\n",
    "            \"age\",\n",
    "            \"workclass\",\n",
    "            \"fnlwgt\",\n",
    "            \"education\",\n",
    "            \"education-num\",\n",
    "            \"marital-status\",\n",
    "            \"occupation\",\n",
    "            \"relationship\",\n",
    "            \"race\",\n",
    "            \"sex\",\n",
    "            \"capital-gain\",\n",
    "            \"capital-loss\",\n",
    "            \"hours-per-week\",\n",
    "            \"native-country\",\n",
    "            \"income\",\n",
    "        ]\n",
    "\n",
    "my_df = pd.read_csv(\"data/raw/adult.data\")\n",
    "my_df.columns = column_names\n",
    "my_df = my_df.apply(LabelEncoder().fit_transform)\n",
    "drop_elements = ['education', 'native-country', 'income', 'age','hours-per-week']\n",
    "y = my_df[\"income\"]\n",
    "X = my_df.drop(drop_elements, axis=1)\n"
   ]
  },
  {
   "cell_type": "code",
   "execution_count": 25,
   "metadata": {},
   "outputs": [
    {
     "data": {
      "text/html": [
       "<style>#sk-container-id-5 {color: black;}#sk-container-id-5 pre{padding: 0;}#sk-container-id-5 div.sk-toggleable {background-color: white;}#sk-container-id-5 label.sk-toggleable__label {cursor: pointer;display: block;width: 100%;margin-bottom: 0;padding: 0.3em;box-sizing: border-box;text-align: center;}#sk-container-id-5 label.sk-toggleable__label-arrow:before {content: \"▸\";float: left;margin-right: 0.25em;color: #696969;}#sk-container-id-5 label.sk-toggleable__label-arrow:hover:before {color: black;}#sk-container-id-5 div.sk-estimator:hover label.sk-toggleable__label-arrow:before {color: black;}#sk-container-id-5 div.sk-toggleable__content {max-height: 0;max-width: 0;overflow: hidden;text-align: left;background-color: #f0f8ff;}#sk-container-id-5 div.sk-toggleable__content pre {margin: 0.2em;color: black;border-radius: 0.25em;background-color: #f0f8ff;}#sk-container-id-5 input.sk-toggleable__control:checked~div.sk-toggleable__content {max-height: 200px;max-width: 100%;overflow: auto;}#sk-container-id-5 input.sk-toggleable__control:checked~label.sk-toggleable__label-arrow:before {content: \"▾\";}#sk-container-id-5 div.sk-estimator input.sk-toggleable__control:checked~label.sk-toggleable__label {background-color: #d4ebff;}#sk-container-id-5 div.sk-label input.sk-toggleable__control:checked~label.sk-toggleable__label {background-color: #d4ebff;}#sk-container-id-5 input.sk-hidden--visually {border: 0;clip: rect(1px 1px 1px 1px);clip: rect(1px, 1px, 1px, 1px);height: 1px;margin: -1px;overflow: hidden;padding: 0;position: absolute;width: 1px;}#sk-container-id-5 div.sk-estimator {font-family: monospace;background-color: #f0f8ff;border: 1px dotted black;border-radius: 0.25em;box-sizing: border-box;margin-bottom: 0.5em;}#sk-container-id-5 div.sk-estimator:hover {background-color: #d4ebff;}#sk-container-id-5 div.sk-parallel-item::after {content: \"\";width: 100%;border-bottom: 1px solid gray;flex-grow: 1;}#sk-container-id-5 div.sk-label:hover label.sk-toggleable__label {background-color: #d4ebff;}#sk-container-id-5 div.sk-serial::before {content: \"\";position: absolute;border-left: 1px solid gray;box-sizing: border-box;top: 0;bottom: 0;left: 50%;z-index: 0;}#sk-container-id-5 div.sk-serial {display: flex;flex-direction: column;align-items: center;background-color: white;padding-right: 0.2em;padding-left: 0.2em;position: relative;}#sk-container-id-5 div.sk-item {position: relative;z-index: 1;}#sk-container-id-5 div.sk-parallel {display: flex;align-items: stretch;justify-content: center;background-color: white;position: relative;}#sk-container-id-5 div.sk-item::before, #sk-container-id-5 div.sk-parallel-item::before {content: \"\";position: absolute;border-left: 1px solid gray;box-sizing: border-box;top: 0;bottom: 0;left: 50%;z-index: -1;}#sk-container-id-5 div.sk-parallel-item {display: flex;flex-direction: column;z-index: 1;position: relative;background-color: white;}#sk-container-id-5 div.sk-parallel-item:first-child::after {align-self: flex-end;width: 50%;}#sk-container-id-5 div.sk-parallel-item:last-child::after {align-self: flex-start;width: 50%;}#sk-container-id-5 div.sk-parallel-item:only-child::after {width: 0;}#sk-container-id-5 div.sk-dashed-wrapped {border: 1px dashed gray;margin: 0 0.4em 0.5em 0.4em;box-sizing: border-box;padding-bottom: 0.4em;background-color: white;}#sk-container-id-5 div.sk-label label {font-family: monospace;font-weight: bold;display: inline-block;line-height: 1.2em;}#sk-container-id-5 div.sk-label-container {text-align: center;}#sk-container-id-5 div.sk-container {/* jupyter's `normalize.less` sets `[hidden] { display: none; }` but bootstrap.min.css set `[hidden] { display: none !important; }` so we also need the `!important` here to be able to override the default hidden behavior on the sphinx rendered scikit-learn.org. See: https://github.com/scikit-learn/scikit-learn/issues/21755 */display: inline-block !important;position: relative;}#sk-container-id-5 div.sk-text-repr-fallback {display: none;}</style><div id=\"sk-container-id-5\" class=\"sk-top-container\"><div class=\"sk-text-repr-fallback\"><pre>Perceptron(eta0=1, random_state=1)</pre><b>In a Jupyter environment, please rerun this cell to show the HTML representation or trust the notebook. <br />On GitHub, the HTML representation is unable to render, please try loading this page with nbviewer.org.</b></div><div class=\"sk-container\" hidden><div class=\"sk-item\"><div class=\"sk-estimator sk-toggleable\"><input class=\"sk-toggleable__control sk-hidden--visually\" id=\"sk-estimator-id-5\" type=\"checkbox\" checked><label for=\"sk-estimator-id-5\" class=\"sk-toggleable__label sk-toggleable__label-arrow\">Perceptron</label><div class=\"sk-toggleable__content\"><pre>Perceptron(eta0=1, random_state=1)</pre></div></div></div></div></div>"
      ],
      "text/plain": [
       "Perceptron(eta0=1, random_state=1)"
      ]
     },
     "execution_count": 25,
     "metadata": {},
     "output_type": "execute_result"
    }
   ],
   "source": [
    "X_train, X_test, y_train, y_test = train_test_split(X, y, test_size=0.2, random_state=2)\n",
    "ppn.fit(X_train, y_train)"
   ]
  },
  {
   "cell_type": "code",
   "execution_count": 26,
   "metadata": {},
   "outputs": [
    {
     "data": {
      "text/plain": [
       "0.7664312039312039"
      ]
     },
     "execution_count": 26,
     "metadata": {},
     "output_type": "execute_result"
    }
   ],
   "source": [
    "from sklearn.metrics import accuracy_score\n",
    "\n",
    "y_pred = ppn.predict(X_test)\n",
    "accuracy_score(y_pred,y_test)"
   ]
  },
  {
   "cell_type": "code",
   "execution_count": 28,
   "metadata": {},
   "outputs": [
    {
     "name": "stdout",
     "output_type": "stream",
     "text": [
      "The accuracy of the Random Forest Model is 0.8418304668304668\n"
     ]
    }
   ],
   "source": [
    "\n",
    "from sklearn.ensemble import RandomForestClassifier \n",
    "# Random Forest\n",
    "# Random Forest Classifier\n",
    "randomforest = RandomForestClassifier()\n",
    "randomforest.fit(X_train, y_train)\n",
    "#y_pred = randomforest.predict(X_test)\n",
    "score_randomforest = randomforest.score(X_test,y_test)\n",
    "print('The accuracy of the Random Forest Model is', score_randomforest)"
   ]
  },
  {
   "cell_type": "code",
   "execution_count": null,
   "metadata": {},
   "outputs": [],
   "source": []
  }
 ],
 "metadata": {
  "kernelspec": {
   "display_name": "Python 3",
   "language": "python",
   "name": "python3"
  },
  "language_info": {
   "codemirror_mode": {
    "name": "ipython",
    "version": 3
   },
   "file_extension": ".py",
   "mimetype": "text/x-python",
   "name": "python",
   "nbconvert_exporter": "python",
   "pygments_lexer": "ipython3",
   "version": "3.11.7"
  }
 },
 "nbformat": 4,
 "nbformat_minor": 2
}
