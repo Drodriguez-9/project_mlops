{
 "cells": [
  {
   "cell_type": "code",
   "execution_count": 1,
   "metadata": {},
   "outputs": [
    {
     "data": {
      "text/html": [
       "\n",
       "<style>\n",
       "    /* Turns off some styling */\n",
       "    progress {\n",
       "        /* gets rid of default border in Firefox and Opera. */\n",
       "        border: none;\n",
       "        /* Needs to be in here for Safari polyfill so background images work as expected. */\n",
       "        background-size: auto;\n",
       "    }\n",
       "    progress:not([value]), progress:not([value])::-webkit-progress-bar {\n",
       "        background: repeating-linear-gradient(45deg, #7e7e7e, #7e7e7e 10px, #5c5c5c 10px, #5c5c5c 20px);\n",
       "    }\n",
       "    .progress-bar-interrupted, .progress-bar-interrupted::-webkit-progress-bar {\n",
       "        background: #F44336;\n",
       "    }\n",
       "</style>\n"
      ],
      "text/plain": [
       "<IPython.core.display.HTML object>"
      ]
     },
     "metadata": {},
     "output_type": "display_data"
    },
    {
     "data": {
      "text/html": [
       "\n",
       "    <div>\n",
       "      <progress value='974848' class='' max='968212' style='width:300px; height:20px; vertical-align: middle;'></progress>\n",
       "      100.69% [974848/968212 00:00&lt;00:00]\n",
       "    </div>\n",
       "    "
      ],
      "text/plain": [
       "<IPython.core.display.HTML object>"
      ]
     },
     "metadata": {},
     "output_type": "display_data"
    },
    {
     "name": "stdout",
     "output_type": "stream",
     "text": [
      "   age          workclass  fnlwgt     education  education-num  \\\n",
      "0   49            Private  101320    Assoc-acdm           12.0   \n",
      "1   44            Private  236746       Masters           14.0   \n",
      "2   38            Private   96185       HS-grad            NaN   \n",
      "3   38       Self-emp-inc  112847   Prof-school           15.0   \n",
      "4   42   Self-emp-not-inc   82297       7th-8th            NaN   \n",
      "\n",
      "        marital-status        occupation    relationship                 race  \\\n",
      "0   Married-civ-spouse               NaN            Wife                White   \n",
      "1             Divorced   Exec-managerial   Not-in-family                White   \n",
      "2             Divorced               NaN       Unmarried                Black   \n",
      "3   Married-civ-spouse    Prof-specialty         Husband   Asian-Pac-Islander   \n",
      "4   Married-civ-spouse     Other-service            Wife                Black   \n",
      "\n",
      "       sex  capital-gain  capital-loss  hours-per-week  native-country salary  \n",
      "0   Female             0          1902              40   United-States  >=50k  \n",
      "1     Male         10520             0              45   United-States  >=50k  \n",
      "2   Female             0             0              32   United-States   <50k  \n",
      "3     Male             0             0              40   United-States  >=50k  \n",
      "4   Female             0             0              50   United-States   <50k  \n"
     ]
    }
   ],
   "source": [
    "# Importing the necessary libraries from fastai\n",
    "from fastai.tabular.all import *\n",
    "\n",
    "path = untar_data(URLs.ADULT_SAMPLE)\n",
    "path.ls()\n",
    "df = pd.read_csv(path/'adult.csv')\n",
    "print(df.head())\n",
    "# A simple script for a classification task using the approach outlined in the fast.ai tabular tutorial\n",
    "def train_tabular_classifier(dataframe, target_column, categorical_columns, continuous_columns, metric):\n",
    "    # Load the data\n",
    "    data = dataframe\n",
    "\n",
    "    # Define the splits (here we're using a random split for simplicity)\n",
    "    splits = RandomSplitter(valid_pct=0.2)(range_of(data))\n",
    "\n",
    "    # Preprocess the data\n",
    "    procs = [Categorify, FillMissing, Normalize]\n",
    "    \n",
    "    # Define the TabularPandas object\n",
    "    to = TabularPandas(data, procs=procs, cat_names=categorical_columns, cont_names=continuous_columns,\n",
    "                       y_names=target_column, splits=splits)\n",
    "    \n",
    "    # Create a DataLoaders object\n",
    "    dls = to.dataloaders(bs=64)\n",
    "    \n",
    "    # Define the learner\n",
    "    learn = tabular_learner(dls, metrics=metric)\n",
    "\n",
    "    # Train the model\n",
    "    learn.fit_one_cycle(5)\n",
    "\n",
    "    # Return the trained learner\n",
    "    return learn\n",
    "target_column = 'salary'\n",
    "categorical_columns = ['workclass', 'education', 'marital-status', 'occupation', \n",
    "                       'relationship', 'race', 'sex', 'native-country']\n",
    "continuous_columns = ['age', 'fnlwgt', 'education-num', 'capital-gain', \n",
    "                      'capital-loss', 'hours-per-week']\n",
    "# Example Usage:\n",
    "trained_model = train_tabular_classifier(df, target_column, categorical_columns, continuous_columns, accuracy)\n"
   ]
  }
 ],
 "metadata": {
  "kernelspec": {
   "display_name": "Python 3",
   "language": "python",
   "name": "python3"
  },
  "language_info": {
   "codemirror_mode": {
    "name": "ipython",
    "version": 3
   },
   "file_extension": ".py",
   "mimetype": "text/x-python",
   "name": "python",
   "nbconvert_exporter": "python",
   "pygments_lexer": "ipython3",
   "version": "3.10.11"
  }
 },
 "nbformat": 4,
 "nbformat_minor": 2
}
